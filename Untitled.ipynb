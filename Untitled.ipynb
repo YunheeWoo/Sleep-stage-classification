{
 "cells": [
  {
   "cell_type": "code",
   "execution_count": 1,
   "id": "greenhouse-scroll",
   "metadata": {},
   "outputs": [],
   "source": [
    "from numpy.lib.function_base import select\n",
    "import torch\n",
    "import torch.nn as nn\n",
    "import torch.nn.functional as F\n",
    "from torch.autograd import Variable\n",
    "from torchsummary import summary\n",
    "from torch.utils.data import DataLoader\n",
    "import torchvision.transforms as trnasforms\n",
    "from pyedflib import highlevel\n",
    "\n",
    "import argparse\n",
    "import numpy as np\n",
    "import pandas as pd\n",
    "import matplotlib.pyplot as plt\n",
    "import os\n",
    "import random\n",
    "import math\n",
    "import time\n",
    "import sys\n",
    "import warnings\n",
    "import datetime\n",
    "import shutil\n",
    "\n",
    "from scipy import signal\n",
    "from scipy.signal import butter,filtfilt, lfilter\n",
    "import mne\n",
    "from tqdm import tnrange, tqdm\n",
    "import multiprocessing\n",
    "from multiprocessing import Pool"
   ]
  },
  {
   "cell_type": "code",
   "execution_count": 5,
   "id": "passive-advocate",
   "metadata": {
    "scrolled": true
   },
   "outputs": [
    {
     "name": "stderr",
     "output_type": "stream",
     "text": [
      "Reading Channels: 100%|██████████| 14/14 [00:01<00:00,  8.82it/s]\n",
      "Reading Channels:   7%|▋         | 1/14 [00:00<00:01,  7.35it/s]"
     ]
    },
    {
     "name": "stdout",
     "output_type": "stream",
     "text": [
      "200\t(4448832,)\t741.472\t1-2\t\n",
      "25\t(554880,)\t739.84\tAbdomen\t\n",
      "200\t(4448832,)\t741.472\tC3-M2\t\n",
      "200\t(4448832,)\t741.472\tC4-M1\t\n",
      "200\t(4448832,)\t741.472\tE1-M2\t\n",
      "200\t(4448832,)\t741.472\tE2-M1\t\n",
      "200\t(4448832,)\t741.472\tEKG\t\n",
      "200\t(4448832,)\t741.472\tF3-M2\t\n",
      "200\t(4448832,)\t741.472\tF4-M1\t\n",
      "200\t(4448832,)\t741.472\tFlow\t\n",
      "200\t(4448832,)\t741.472\tO1-M2\t\n",
      "200\t(4448832,)\t741.472\tO2-M1\t\n",
      "3\t(65280,)\t725.3333333333334\tSaturation\t\n",
      "25\t(554880,)\t739.84\tChest\t\n"
     ]
    },
    {
     "name": "stderr",
     "output_type": "stream",
     "text": [
      "Reading Channels: 100%|██████████| 14/14 [00:01<00:00,  8.83it/s]\n",
      "Reading Channels:   7%|▋         | 1/14 [00:00<00:02,  6.12it/s]"
     ]
    },
    {
     "name": "stdout",
     "output_type": "stream",
     "text": [
      "200\t(4552420,)\t758.7366666666666\t1-2\t\n",
      "25\t(567800,)\t757.0666666666667\tAbdomen\t\n",
      "200\t(4552420,)\t758.7366666666666\tC3-M2\t\n",
      "200\t(4552420,)\t758.7366666666666\tC4-M1\t\n",
      "200\t(4552420,)\t758.7366666666666\tE1-M2\t\n",
      "200\t(4552420,)\t758.7366666666666\tE2-M1\t\n",
      "200\t(4552420,)\t758.7366666666666\tEKG\t\n",
      "200\t(4552420,)\t758.7366666666666\tF3-M2\t\n",
      "200\t(4552420,)\t758.7366666666666\tF4-M1\t\n",
      "200\t(4552420,)\t758.7366666666666\tFlow\t\n",
      "200\t(4552420,)\t758.7366666666666\tO1-M2\t\n",
      "200\t(4552420,)\t758.7366666666666\tO2-M1\t\n",
      "3\t(66800,)\t742.2222222222223\tSaturation\t\n",
      "25\t(567800,)\t757.0666666666667\tChest\t\n"
     ]
    },
    {
     "name": "stderr",
     "output_type": "stream",
     "text": [
      "Reading Channels: 100%|██████████| 14/14 [00:01<00:00,  8.60it/s]\n",
      "Reading Channels:   7%|▋         | 1/14 [00:00<00:01,  7.02it/s]"
     ]
    },
    {
     "name": "stdout",
     "output_type": "stream",
     "text": [
      "200\t(4402490,)\t733.7483333333333\t1-2\t\n",
      "25\t(549100,)\t732.1333333333333\tAbdomen\t\n",
      "200\t(4402490,)\t733.7483333333333\tC3-M2\t\n",
      "200\t(4402490,)\t733.7483333333333\tC4-M1\t\n",
      "200\t(4402490,)\t733.7483333333333\tE1-M2\t\n",
      "200\t(4402490,)\t733.7483333333333\tE2-M1\t\n",
      "200\t(4402490,)\t733.7483333333333\tEKG\t\n",
      "200\t(4402490,)\t733.7483333333333\tF3-M2\t\n",
      "200\t(4402490,)\t733.7483333333333\tF4-M1\t\n",
      "200\t(4402490,)\t733.7483333333333\tFlow\t\n",
      "200\t(4402490,)\t733.7483333333333\tO1-M2\t\n",
      "200\t(4402490,)\t733.7483333333333\tO2-M1\t\n",
      "3\t(64600,)\t717.7777777777777\tSaturation\t\n",
      "25\t(549100,)\t732.1333333333333\tChest\t\n"
     ]
    },
    {
     "name": "stderr",
     "output_type": "stream",
     "text": [
      "Reading Channels: 100%|██████████| 14/14 [00:01<00:00,  8.62it/s]\n",
      "Reading Channels:   7%|▋         | 1/14 [00:00<00:01,  7.39it/s]"
     ]
    },
    {
     "name": "stdout",
     "output_type": "stream",
     "text": [
      "200\t(4701348,)\t783.5580000000001\t1-2\t\n",
      "25\t(586160,)\t781.5466666666667\tAbdomen\t\n",
      "200\t(4701348,)\t783.5580000000001\tC3-M2\t\n",
      "200\t(4701348,)\t783.5580000000001\tC4-M1\t\n",
      "200\t(4701348,)\t783.5580000000001\tE1-M2\t\n",
      "200\t(4701348,)\t783.5580000000001\tE2-M1\t\n",
      "200\t(4701348,)\t783.5580000000001\tEKG\t\n",
      "200\t(4701348,)\t783.5580000000001\tF3-M2\t\n",
      "200\t(4701348,)\t783.5580000000001\tF4-M1\t\n",
      "200\t(4701348,)\t783.5580000000001\tFlow\t\n",
      "200\t(4701348,)\t783.5580000000001\tO1-M2\t\n",
      "200\t(4701348,)\t783.5580000000001\tO2-M1\t\n",
      "3\t(68960,)\t766.2222222222223\tSaturation\t\n",
      "25\t(586160,)\t781.5466666666667\tChest\t\n"
     ]
    },
    {
     "name": "stderr",
     "output_type": "stream",
     "text": [
      "Reading Channels: 100%|██████████| 14/14 [00:01<00:00,  8.93it/s]\n",
      "Reading Channels:   7%|▋         | 1/14 [00:00<00:02,  5.99it/s]"
     ]
    },
    {
     "name": "stdout",
     "output_type": "stream",
     "text": [
      "200\t(4437928,)\t739.6546666666667\t1-2\t\n",
      "25\t(553520,)\t738.0266666666666\tAbdomen\t\n",
      "200\t(4437928,)\t739.6546666666667\tC3-M2\t\n",
      "200\t(4437928,)\t739.6546666666667\tC4-M1\t\n",
      "200\t(4437928,)\t739.6546666666667\tE1-M2\t\n",
      "200\t(4437928,)\t739.6546666666667\tE2-M1\t\n",
      "200\t(4437928,)\t739.6546666666667\tEKG\t\n",
      "200\t(4437928,)\t739.6546666666667\tF3-M2\t\n",
      "200\t(4437928,)\t739.6546666666667\tF4-M1\t\n",
      "200\t(4437928,)\t739.6546666666667\tFlow\t\n",
      "200\t(4437928,)\t739.6546666666667\tO1-M2\t\n",
      "200\t(4437928,)\t739.6546666666667\tO2-M1\t\n",
      "3\t(65120,)\t723.5555555555555\tSaturation\t\n",
      "25\t(553520,)\t738.0266666666666\tChest\t\n"
     ]
    },
    {
     "name": "stderr",
     "output_type": "stream",
     "text": [
      "Reading Channels: 100%|██████████| 14/14 [00:01<00:00,  9.17it/s]\n",
      "Reading Channels:   7%|▋         | 1/14 [00:00<00:01,  7.39it/s]"
     ]
    },
    {
     "name": "stdout",
     "output_type": "stream",
     "text": [
      "200\t(4399764,)\t733.294\t1-2\t\n",
      "25\t(548760,)\t731.6800000000001\tAbdomen\t\n",
      "200\t(4399764,)\t733.294\tC3-M2\t\n",
      "200\t(4399764,)\t733.294\tC4-M1\t\n",
      "200\t(4399764,)\t733.294\tE1-M2\t\n",
      "200\t(4399764,)\t733.294\tE2-M1\t\n",
      "200\t(4399764,)\t733.294\tEKG\t\n",
      "200\t(4399764,)\t733.294\tF3-M2\t\n",
      "200\t(4399764,)\t733.294\tF4-M1\t\n",
      "200\t(4399764,)\t733.294\tFlow\t\n",
      "200\t(4399764,)\t733.294\tO1-M2\t\n",
      "200\t(4399764,)\t733.294\tO2-M1\t\n",
      "3\t(64560,)\t717.3333333333334\tSaturation\t\n",
      "25\t(548760,)\t731.6800000000001\tChest\t\n"
     ]
    },
    {
     "name": "stderr",
     "output_type": "stream",
     "text": [
      "Reading Channels: 100%|██████████| 14/14 [00:01<00:00,  9.28it/s]"
     ]
    },
    {
     "name": "stdout",
     "output_type": "stream",
     "text": [
      "200\t(4445010,)\t740.8349999999999\t1-2\t\n",
      "25\t(554200,)\t738.9333333333333\tAbdomen\t\n",
      "200\t(4445010,)\t740.8349999999999\tC3-M2\t\n",
      "200\t(4445010,)\t740.8349999999999\tC4-M1\t\n",
      "200\t(4445010,)\t740.8349999999999\tE1-M2\t\n",
      "200\t(4445010,)\t740.8349999999999\tE2-M1\t\n",
      "200\t(4445010,)\t740.8349999999999\tEKG\t\n",
      "200\t(4445010,)\t740.8349999999999\tF3-M2\t\n",
      "200\t(4445010,)\t740.8349999999999\tF4-M1\t\n",
      "200\t(4445010,)\t740.8349999999999\tFlow\t\n",
      "200\t(4445010,)\t740.8349999999999\tO1-M2\t\n",
      "200\t(4445010,)\t740.8349999999999\tO2-M1\t\n",
      "3\t(65200,)\t724.4444444444445\tSaturation\t\n",
      "25\t(554200,)\t738.9333333333333\tChest\t\n"
     ]
    },
    {
     "name": "stderr",
     "output_type": "stream",
     "text": [
      "\n"
     ]
    }
   ],
   "source": [
    "signals = os.listdir(\"/data/ssd1/spindle_dataset/original_signals/14Channel/\")\n",
    "signals.sort()\n",
    "for signal in signals:\n",
    "    signals_pyedf, signals_info_pyedf, info = highlevel.read_edf(\"/data/ssd1/spindle_dataset/original_signals/14Channel/\"+signal)\n",
    "    for idx,i in enumerate(signals_info_pyedf):\n",
    "        if i['label'] not in [\"C3-M2\", \"C4-M1\", \"F3-M2\", \"F4-M1\", \"O1-M2\", \"O2-M1\", \"E1-M2\", \"E2-M1\", \"1-2\", \"EKG\",'Chest','Abdomen','Flow','Saturation']:\n",
    "            continue\n",
    "        print(i['sample_rate'], end='\\t')\n",
    "        print(signals_pyedf[idx].shape, end='\\t')\n",
    "        print(signals_pyedf[idx].shape[0]/i['sample_rate']/30, end='\\t')\n",
    "        print(i['label'], end='\\t')\n",
    "        print()"
   ]
  },
  {
   "cell_type": "code",
   "execution_count": 8,
   "id": "understanding-simple",
   "metadata": {
    "scrolled": true
   },
   "outputs": [
    {
     "name": "stderr",
     "output_type": "stream",
     "text": [
      "Reading Channels: 100%|██████████| 32/32 [00:02<00:00, 14.44it/s]\n",
      "Reading Channels:   3%|▎         | 1/32 [00:00<00:04,  7.70it/s]"
     ]
    },
    {
     "name": "stdout",
     "output_type": "stream",
     "text": [
      "{'technician': '', 'recording_additional': '', 'patientname': '', 'patient_additional': '', 'patientcode': '', 'equipment': '', 'admincode': '', 'gender': '', 'startdate': datetime.datetime(2021, 8, 30, 22, 9, 1), 'birthdate': '', 'annotations': []}\n",
      "200\t(4448000,)\t741.3333333333334\t1-2\t\n",
      "25\t(556000,)\t741.3333333333334\tAbdomen\t\n",
      "200\t(4448000,)\t741.3333333333334\tC3-M2\t\n",
      "200\t(4448000,)\t741.3333333333334\tC4-M1\t\n",
      "200\t(4448000,)\t741.3333333333334\tE1-M2\t\n",
      "200\t(4448000,)\t741.3333333333334\tE2-M1\t\n",
      "200\t(4448000,)\t741.3333333333334\tEKG\t\n",
      "200\t(4448000,)\t741.3333333333334\tF3-M2\t\n",
      "200\t(4448000,)\t741.3333333333334\tF4-M1\t\n",
      "200\t(4448000,)\t741.3333333333334\tO1-M2\t\n",
      "200\t(4448000,)\t741.3333333333334\tO2-M1\t\n",
      "3\t(64496,)\t716.6222222222223\tSaturation\t\n",
      "25\t(556000,)\t741.3333333333334\tChest\t\n"
     ]
    },
    {
     "name": "stderr",
     "output_type": "stream",
     "text": [
      "Reading Channels: 100%|██████████| 32/32 [00:02<00:00, 14.20it/s]\n",
      "Reading Channels:   3%|▎         | 1/32 [00:00<00:03,  8.01it/s]"
     ]
    },
    {
     "name": "stdout",
     "output_type": "stream",
     "text": [
      "{'technician': '', 'recording_additional': '', 'patientname': '', 'patient_additional': '', 'patientcode': '', 'equipment': '', 'admincode': '', 'gender': '', 'startdate': datetime.datetime(2021, 9, 1, 22, 2, 25), 'birthdate': '', 'annotations': []}\n",
      "200\t(4552000,)\t758.6666666666666\t1-2\t\n",
      "25\t(569000,)\t758.6666666666666\tAbdomen\t\n",
      "200\t(4552000,)\t758.6666666666666\tC3-M2\t\n",
      "200\t(4552000,)\t758.6666666666666\tC4-M1\t\n",
      "200\t(4552000,)\t758.6666666666666\tE1-M2\t\n",
      "200\t(4552000,)\t758.6666666666666\tE2-M1\t\n",
      "200\t(4552000,)\t758.6666666666666\tEKG\t\n",
      "200\t(4552000,)\t758.6666666666666\tF3-M2\t\n",
      "200\t(4552000,)\t758.6666666666666\tF4-M1\t\n",
      "200\t(4552000,)\t758.6666666666666\tO1-M2\t\n",
      "200\t(4552000,)\t758.6666666666666\tO2-M1\t\n",
      "3\t(66004,)\t733.3777777777777\tSaturation\t\n",
      "25\t(569000,)\t758.6666666666666\tChest\t\n"
     ]
    },
    {
     "name": "stderr",
     "output_type": "stream",
     "text": [
      "Reading Channels: 100%|██████████| 32/32 [00:02<00:00, 14.71it/s]\n",
      "Reading Channels:   3%|▎         | 1/32 [00:00<00:04,  7.26it/s]"
     ]
    },
    {
     "name": "stdout",
     "output_type": "stream",
     "text": [
      "{'technician': '', 'recording_additional': '', 'patientname': '', 'patient_additional': '', 'patientcode': '', 'equipment': '', 'admincode': '', 'gender': '', 'startdate': datetime.datetime(2021, 9, 15, 22, 7, 16), 'birthdate': '', 'annotations': []}\n",
      "200\t(4404000,)\t734.0\t1-2\t\n",
      "25\t(550500,)\t734.0\tAbdomen\t\n",
      "200\t(4404000,)\t734.0\tC3-M2\t\n",
      "200\t(4404000,)\t734.0\tC4-M1\t\n",
      "200\t(4404000,)\t734.0\tE1-M2\t\n",
      "200\t(4404000,)\t734.0\tE2-M1\t\n",
      "200\t(4404000,)\t734.0\tEKG\t\n",
      "200\t(4404000,)\t734.0\tF3-M2\t\n",
      "200\t(4404000,)\t734.0\tF4-M1\t\n",
      "200\t(4404000,)\t734.0\tO1-M2\t\n",
      "200\t(4404000,)\t734.0\tO2-M1\t\n",
      "3\t(63858,)\t709.5333333333333\tSaturation\t\n",
      "25\t(550500,)\t734.0\tChest\t\n"
     ]
    },
    {
     "name": "stderr",
     "output_type": "stream",
     "text": [
      "Reading Channels: 100%|██████████| 32/32 [00:02<00:00, 13.44it/s]\n",
      "Reading Channels:   3%|▎         | 1/32 [00:00<00:04,  6.64it/s]"
     ]
    },
    {
     "name": "stdout",
     "output_type": "stream",
     "text": [
      "{'technician': '', 'recording_additional': '', 'patientname': '', 'patient_additional': '', 'patientcode': '', 'equipment': '', 'admincode': '', 'gender': '', 'startdate': datetime.datetime(2021, 9, 15, 22, 5, 4), 'birthdate': '', 'annotations': []}\n",
      "200\t(4701648,)\t783.6080000000001\t1-2\t\n",
      "25\t(585648,)\t780.8639999999999\tAbdomen\t\n",
      "200\t(4701648,)\t783.6080000000001\tC3-M2\t\n",
      "200\t(4701648,)\t783.6080000000001\tC4-M1\t\n",
      "200\t(4701648,)\t783.6080000000001\tE1-M2\t\n",
      "200\t(4701648,)\t783.6080000000001\tE2-M1\t\n",
      "200\t(4701648,)\t783.6080000000001\tEKG\t\n",
      "200\t(4701648,)\t783.6080000000001\tF3-M2\t\n",
      "200\t(4701648,)\t783.6080000000001\tF4-M1\t\n",
      "200\t(4701648,)\t783.6080000000001\tO1-M2\t\n",
      "200\t(4701648,)\t783.6080000000001\tO2-M1\t\n",
      "3\t(68208,)\t757.8666666666667\tSaturation\t\n",
      "25\t(585648,)\t780.8639999999999\tChest\t\n"
     ]
    },
    {
     "name": "stderr",
     "output_type": "stream",
     "text": [
      "Reading Channels: 100%|██████████| 32/32 [00:02<00:00, 14.41it/s]\n",
      "Reading Channels:   1%|          | 1/81 [00:00<00:10,  7.41it/s]"
     ]
    },
    {
     "name": "stdout",
     "output_type": "stream",
     "text": [
      "{'technician': '', 'recording_additional': '', 'patientname': '', 'patient_additional': '', 'patientcode': '', 'equipment': '', 'admincode': '', 'gender': '', 'startdate': datetime.datetime(2021, 10, 1, 22, 14, 56), 'birthdate': '', 'annotations': []}\n",
      "200\t(4440000,)\t740.0\t1-2\t\n",
      "25\t(555000,)\t740.0\tAbdomen\t\n",
      "200\t(4440000,)\t740.0\tC3-M2\t\n",
      "200\t(4440000,)\t740.0\tC4-M1\t\n",
      "200\t(4440000,)\t740.0\tE1-M2\t\n",
      "200\t(4440000,)\t740.0\tE2-M1\t\n",
      "200\t(4440000,)\t740.0\tEKG\t\n",
      "200\t(4440000,)\t740.0\tF3-M2\t\n",
      "200\t(4440000,)\t740.0\tF4-M1\t\n",
      "200\t(4440000,)\t740.0\tO1-M2\t\n",
      "200\t(4440000,)\t740.0\tO2-M1\t\n",
      "3\t(64380,)\t715.3333333333334\tSaturation\t\n",
      "25\t(555000,)\t740.0\tChest\t\n"
     ]
    },
    {
     "name": "stderr",
     "output_type": "stream",
     "text": [
      "Reading Channels: 100%|██████████| 81/81 [00:05<00:00, 15.56it/s]\n",
      "Reading Channels:   1%|          | 1/92 [00:00<00:11,  7.72it/s]"
     ]
    },
    {
     "name": "stdout",
     "output_type": "stream",
     "text": [
      "{'technician': '', 'recording_additional': '', 'patientname': '', 'patient_additional': '', 'patientcode': '', 'equipment': '', 'admincode': '', 'gender': '', 'startdate': datetime.datetime(2021, 11, 12, 22, 6, 24), 'birthdate': '', 'annotations': []}\n",
      "200\t(4400000,)\t733.3333333333334\t1-2\t\n",
      "25\t(550000,)\t733.3333333333334\tAbdomen\t\n",
      "200\t(4400000,)\t733.3333333333334\tC3-M2\t\n",
      "200\t(4400000,)\t733.3333333333334\tC4-M1\t\n",
      "200\t(4400000,)\t733.3333333333334\tE1-M2\t\n",
      "200\t(4400000,)\t733.3333333333334\tE2-M1\t\n",
      "200\t(4400000,)\t733.3333333333334\tEKG\t\n",
      "200\t(4400000,)\t733.3333333333334\tF3-M2\t\n",
      "200\t(4400000,)\t733.3333333333334\tF4-M1\t\n",
      "200\t(4400000,)\t733.3333333333334\tFlow\t\n",
      "200\t(4400000,)\t733.3333333333334\tO1-M2\t\n",
      "200\t(4400000,)\t733.3333333333334\tO2-M1\t\n",
      "3\t(63800,)\t708.8888888888889\tSaturation\t\n",
      "25\t(550000,)\t733.3333333333334\tChest\t\n"
     ]
    },
    {
     "name": "stderr",
     "output_type": "stream",
     "text": [
      "Reading Channels: 100%|██████████| 92/92 [00:05<00:00, 17.24it/s]"
     ]
    },
    {
     "name": "stdout",
     "output_type": "stream",
     "text": [
      "{'technician': '', 'recording_additional': '', 'patientname': '', 'patient_additional': '', 'patientcode': '', 'equipment': '', 'admincode': '', 'gender': '', 'startdate': datetime.datetime(2021, 11, 19, 22, 14, 33), 'birthdate': '', 'annotations': []}\n",
      "200\t(4451773,)\t741.9621666666667\t1-2\t\n",
      "25\t(554523,)\t739.3639999999999\tAbdomen\t\n",
      "200\t(4451773,)\t741.9621666666667\tC3-M2\t\n",
      "200\t(4451773,)\t741.9621666666667\tC4-M1\t\n",
      "200\t(4451773,)\t741.9621666666667\tE1-M2\t\n",
      "200\t(4451773,)\t741.9621666666667\tE2-M1\t\n",
      "200\t(4451773,)\t741.9621666666667\tEKG\t\n",
      "200\t(4451773,)\t741.9621666666667\tF3-M2\t\n",
      "200\t(4451773,)\t741.9621666666667\tF4-M1\t\n",
      "200\t(4451773,)\t741.9621666666667\tFlow\t\n",
      "200\t(4451773,)\t741.9621666666667\tO1-M2\t\n",
      "200\t(4451773,)\t741.9621666666667\tO2-M1\t\n",
      "3\t(64583,)\t717.588888888889\tSaturation\t\n",
      "25\t(554523,)\t739.3639999999999\tChest\t\n"
     ]
    },
    {
     "name": "stderr",
     "output_type": "stream",
     "text": [
      "\n"
     ]
    }
   ],
   "source": [
    "signals = os.listdir(\"/data/ssd1/spindle_dataset/original_signals/200Hz/\")\n",
    "signals.sort()\n",
    "for signal in signals:\n",
    "    signals_pyedf, signals_info_pyedf, info = highlevel.read_edf(\"/data/ssd1/spindle_dataset/original_signals/200Hz/\"+signal)\n",
    "    print(info)\n",
    "    for idx,i in enumerate(signals_info_pyedf):\n",
    "        if i['label'] not in [\"C3-M2\", \"C4-M1\", \"F3-M2\", \"F4-M1\", \"O1-M2\", \"O2-M1\", \"E1-M2\", \"E2-M1\", \"1-2\", \"EKG\",'Chest','Abdomen','Flow','Saturation']:\n",
    "            continue\n",
    "        print(i['sample_rate'], end='\\t')\n",
    "        print(signals_pyedf[idx].shape, end='\\t')\n",
    "        print(signals_pyedf[idx].shape[0]/i['sample_rate']/30, end='\\t')\n",
    "        print(i['label'], end='\\t')\n",
    "        print()"
   ]
  },
  {
   "cell_type": "code",
   "execution_count": 10,
   "id": "organizational-spokesman",
   "metadata": {
    "scrolled": false
   },
   "outputs": [
    {
     "name": "stderr",
     "output_type": "stream",
     "text": [
      "Reading Channels: 100%|██████████| 14/14 [00:01<00:00,  9.30it/s]\n",
      "Reading Channels:   7%|▋         | 1/14 [00:00<00:01,  7.55it/s]"
     ]
    },
    {
     "name": "stdout",
     "output_type": "stream",
     "text": [
      "200\t(4448832,)\t741.472\t1-2\t\n",
      "25\t(554880,)\t739.84\tAbdomen\t\n",
      "200\t(4448832,)\t741.472\tC3-M2\t\n",
      "200\t(4448832,)\t741.472\tC4-M1\t\n",
      "200\t(4448832,)\t741.472\tE1-M2\t\n",
      "200\t(4448832,)\t741.472\tE2-M1\t\n",
      "200\t(4448832,)\t741.472\tEKG\t\n",
      "200\t(4448832,)\t741.472\tF3-M2\t\n",
      "200\t(4448832,)\t741.472\tF4-M1\t\n",
      "200\t(4448832,)\t741.472\tFlow\t\n",
      "200\t(4448832,)\t741.472\tO1-M2\t\n",
      "200\t(4448832,)\t741.472\tO2-M1\t\n",
      "3\t(65280,)\t725.3333333333334\tSaturation\t\n",
      "25\t(554880,)\t739.84\tChest\t\n"
     ]
    },
    {
     "name": "stderr",
     "output_type": "stream",
     "text": [
      "Reading Channels: 100%|██████████| 14/14 [00:01<00:00,  9.13it/s]"
     ]
    },
    {
     "name": "stdout",
     "output_type": "stream",
     "text": [
      "200\t(4552420,)\t758.7366666666666\t1-2\t\n",
      "25\t(567800,)\t757.0666666666667\tAbdomen\t\n",
      "200\t(4552420,)\t758.7366666666666\tC3-M2\t\n",
      "200\t(4552420,)\t758.7366666666666\tC4-M1\t\n",
      "200\t(4552420,)\t758.7366666666666\tE1-M2\t\n",
      "200\t(4552420,)\t758.7366666666666\tE2-M1\t\n",
      "200\t(4552420,)\t758.7366666666666\tEKG\t\n",
      "200\t(4552420,)\t758.7366666666666\tF3-M2\t\n",
      "200\t(4552420,)\t758.7366666666666\tF4-M1\t\n",
      "200\t(4552420,)\t758.7366666666666\tFlow\t\n",
      "200\t(4552420,)\t758.7366666666666\tO1-M2\t\n",
      "200\t(4552420,)\t758.7366666666666\tO2-M1\t\n",
      "3\t(66800,)\t742.2222222222223\tSaturation\t\n",
      "25\t(567800,)\t757.0666666666667\tChest\t\n"
     ]
    },
    {
     "name": "stderr",
     "output_type": "stream",
     "text": [
      "\n"
     ]
    }
   ],
   "source": [
    "signals = os.listdir(\"/data/ssd1/spindle_dataset/original_signals/only_200Hz/\")\n",
    "signals.sort()\n",
    "for signal in signals:\n",
    "    signals_pyedf, signals_info_pyedf, info = highlevel.read_edf(\"/data/ssd1/spindle_dataset/original_signals/only_200Hz/\"+signal)\n",
    "    for idx,i in enumerate(signals_info_pyedf):\n",
    "        if i['label'] not in [\"C3-M2\", \"C4-M1\", \"F3-M2\", \"F4-M1\", \"O1-M2\", \"O2-M1\", \"E1-M2\", \"E2-M1\", \"1-2\", \"EKG\",'Chest','Abdomen','Flow','Saturation']:\n",
    "            continue\n",
    "        print(i['sample_rate'], end='\\t')\n",
    "        print(signals_pyedf[idx].shape, end='\\t')\n",
    "        print(signals_pyedf[idx].shape[0]/i['sample_rate']/30, end='\\t')\n",
    "        print(i['label'], end='\\t')\n",
    "        print()"
   ]
  },
  {
   "cell_type": "code",
   "execution_count": 24,
   "id": "secondary-railway",
   "metadata": {
    "scrolled": false
   },
   "outputs": [
    {
     "name": "stderr",
     "output_type": "stream",
     "text": [
      "Reading Channels: 100%|██████████| 94/94 [00:05<00:00, 17.63it/s]\n",
      "Reading Channels:   0%|          | 0/92 [00:00<?, ?it/s]"
     ]
    },
    {
     "name": "stdout",
     "output_type": "stream",
     "text": [
      "2021-08-30 22:09:01\n",
      "200\t(4448000,)\t741.3333333333334\t1\t\n",
      "1\t(22240,)\t741.3333333333334\t1 Impedance\t\n",
      "200\t(4448000,)\t741.3333333333334\t1-2\t\n",
      "1\t(22240,)\t741.3333333333334\t1-2 (Imp)\t\n",
      "200\t(4448000,)\t741.3333333333334\t1-F\t\n",
      "1\t(22240,)\t741.3333333333334\t1-F (Imp)\t\n",
      "200\t(4448000,)\t741.3333333333334\t2\t\n",
      "1\t(22240,)\t741.3333333333334\t2 Impedance\t\n",
      "200\t(4448000,)\t741.3333333333334\t2-F\t\n",
      "1\t(22240,)\t741.3333333333334\t2-F (Imp)\t\n",
      "25\t(556000,)\t741.3333333333334\tAbdomen CaL\t\n",
      "25\t(556000,)\t741.3333333333334\tAbdomen\t\n",
      "20\t(444800,)\t741.3333333333334\tActivity\t\n",
      "1\t(22240,)\t741.3333333333334\tLight\t\n",
      "250\t(5560000,)\t741.3333333333334\tAmbient Light C1\t\n",
      "100\t(2221776,)\t740.592\tAudio Volume\t\n",
      "100\t(2221776,)\t740.592\tAudio Volume dB\t\n",
      "200\t(4448000,)\t741.3333333333334\tC3\t\n",
      "1\t(22240,)\t741.3333333333334\tC3 Impedance\t\n",
      "200\t(4448000,)\t741.3333333333334\tC3-M2\t\n",
      "1\t(22240,)\t741.3333333333334\tC3-M2 (Imp)\t\n",
      "200\t(4448000,)\t741.3333333333334\tC4\t\n",
      "1\t(22240,)\t741.3333333333334\tC4 Impedance\t\n",
      "200\t(4448000,)\t741.3333333333334\tC4-M1\t\n",
      "1\t(22240,)\t741.3333333333334\tC4-M1 (Imp)\t\n",
      "25\t(556000,)\t741.3333333333334\tcRIP Flow\t\n",
      "25\t(556000,)\t741.3333333333334\tcRIP Sum\t\n",
      "200\t(4448000,)\t741.3333333333334\tE1\t\n",
      "1\t(22240,)\t741.3333333333334\tE1 Impedance\t\n",
      "200\t(4448000,)\t741.3333333333334\tE1-M2\t\n",
      "1\t(22240,)\t741.3333333333334\tE1-M2 (Imp)\t\n",
      "200\t(4448000,)\t741.3333333333334\tE2\t\n",
      "1\t(22240,)\t741.3333333333334\tE2 Impedance\t\n",
      "200\t(4448000,)\t741.3333333333334\tE2-M1\t\n",
      "1\t(22240,)\t741.3333333333334\tE2-M1 (Imp)\t\n",
      "200\t(4448000,)\t741.3333333333334\tEKG\t\n",
      "1\t(22240,)\t741.3333333333334\tEKG Impedance\t\n",
      "20\t(444800,)\t741.3333333333334\tElevation\t\n",
      "200\t(4448000,)\t741.3333333333334\tF\t\n",
      "1\t(22240,)\t741.3333333333334\tF Impedance\t\n",
      "200\t(4448000,)\t741.3333333333334\tF3\t\n",
      "1\t(22240,)\t741.3333333333334\tF3 Impedance\t\n",
      "200\t(4448000,)\t741.3333333333334\tF3-M2\t\n",
      "1\t(22240,)\t741.3333333333334\tF3-M2 (Imp)\t\n",
      "200\t(4448000,)\t741.3333333333334\tF4\t\n",
      "1\t(22240,)\t741.3333333333334\tF4 Impedance\t\n",
      "200\t(4448000,)\t741.3333333333334\tF4-M1\t\n",
      "1\t(22240,)\t741.3333333333334\tF4-M1 (Imp)\t\n",
      "200\t(4448000,)\t741.3333333333334\tFlow\t\n",
      "5\t(111200,)\t741.3333333333334\tFlow Limitation\t\n",
      "3\t(66720,)\t741.3333333333334\tHeart Rate\t\n",
      "3\t(66720,)\t741.3333333333334\tHeart Rate\t\n",
      "25\t(556000,)\t741.3333333333334\tInductance Abdom\t\n",
      "25\t(556000,)\t741.3333333333334\tInductance Thora\t\n",
      "25\t(556000,)\t741.3333333333334\tK\t\n",
      "200\t(4448000,)\t741.3333333333334\tLeft Leg\t\n",
      "1\t(22240,)\t741.3333333333334\tLeft Leg Impedan\t\n",
      "200\t(4448000,)\t741.3333333333334\tM1\t\n",
      "1\t(22240,)\t741.3333333333334\tM1 Impedance\t\n",
      "200\t(4448000,)\t741.3333333333334\tM1M2\t\n",
      "200\t(4448000,)\t741.3333333333334\tM2\t\n",
      "1\t(22240,)\t741.3333333333334\tM2 Impedance\t\n",
      "200\t(4448000,)\t741.3333333333334\tMask Pressure\t\n",
      "200\t(4448000,)\t741.3333333333334\tNasal Pressure\t\n",
      "200\t(4448000,)\t741.3333333333334\tO1\t\n",
      "1\t(22240,)\t741.3333333333334\tO1 Impedance\t\n",
      "200\t(4448000,)\t741.3333333333334\tO1-M2\t\n",
      "1\t(22240,)\t741.3333333333334\tO1-M2 (Imp)\t\n",
      "200\t(4448000,)\t741.3333333333334\tO2\t\n",
      "1\t(22240,)\t741.3333333333334\tO2 Impedance\t\n",
      "200\t(4448000,)\t741.3333333333334\tO2-M1\t\n",
      "1\t(22240,)\t741.3333333333334\tO2-M1 (Imp)\t\n",
      "75\t(1665776,)\t740.3448888888889\tPulse Waveform\t\n",
      "20\t(444800,)\t741.3333333333334\tPosAngle\t\n",
      "75\t(1665776,)\t740.3448888888889\tPTT\t\n",
      "3\t(64496,)\t716.6222222222223\tPulse\t\n",
      "75\t(1665776,)\t740.3448888888889\tPWA\t\n",
      "25\t(556000,)\t741.3333333333334\tResp Rate\t\n",
      "200\t(4448000,)\t741.3333333333334\tRight Leg\t\n",
      "1\t(22240,)\t741.3333333333334\tRight Leg Impeda\t\n",
      "25\t(556000,)\t741.3333333333334\tRIP Flow\t\n",
      "1\t(22240,)\t741.3333333333334\tRIP Phase\t\n",
      "25\t(556000,)\t741.3333333333334\tRIP Sum\t\n",
      "1\t(22240,)\t741.3333333333334\tMaskPressure\t\n",
      "200\t(4448000,)\t741.3333333333334\tSnore\t\n",
      "3\t(64496,)\t716.6222222222223\tSaturation\t\n",
      "3\t(64496,)\t716.6222222222223\tSpO2 B-B\t\n",
      "25\t(556000,)\t741.3333333333334\tChest\t\n",
      "100\t(2221776,)\t740.592\tVoltage (battery\t\n",
      "100\t(2221776,)\t740.592\tVoltage (bluetoo\t\n",
      "100\t(2221776,)\t740.592\tVoltage (core)\t\n",
      "20\t(444800,)\t741.3333333333334\tX Axis\t\n",
      "20\t(444800,)\t741.3333333333334\tY Axis\t\n",
      "20\t(444800,)\t741.3333333333334\tZ Axis\t\n"
     ]
    },
    {
     "name": "stderr",
     "output_type": "stream",
     "text": [
      "Reading Channels: 100%|██████████| 92/92 [00:05<00:00, 16.72it/s]"
     ]
    },
    {
     "name": "stdout",
     "output_type": "stream",
     "text": [
      "2021-09-01 22:02:25\n",
      "200\t(4552000,)\t758.6666666666666\t1\t\n",
      "1\t(22760,)\t758.6666666666666\t1 Impedance\t\n",
      "200\t(4552000,)\t758.6666666666666\t1-2\t\n",
      "1\t(22760,)\t758.6666666666666\t1-2 (Imp)\t\n",
      "200\t(4552000,)\t758.6666666666666\t1-F\t\n",
      "200\t(4552000,)\t758.6666666666666\t2\t\n",
      "1\t(22760,)\t758.6666666666666\t2 Impedance\t\n",
      "200\t(4552000,)\t758.6666666666666\t2-F\t\n",
      "25\t(569000,)\t758.6666666666666\tAbdomen CaL\t\n",
      "25\t(569000,)\t758.6666666666666\tAbdomen\t\n",
      "20\t(455200,)\t758.6666666666666\tActivity\t\n",
      "1\t(22760,)\t758.6666666666666\tLight\t\n",
      "250\t(5690000,)\t758.6666666666666\tAmbient Light C1\t\n",
      "100\t(2273724,)\t757.908\tAudio Volume\t\n",
      "100\t(2273724,)\t757.908\tAudio Volume dB\t\n",
      "200\t(4552000,)\t758.6666666666666\tC3\t\n",
      "1\t(22760,)\t758.6666666666666\tC3 Impedance\t\n",
      "200\t(4552000,)\t758.6666666666666\tC3-M2\t\n",
      "1\t(22760,)\t758.6666666666666\tC3-M2 (Imp)\t\n",
      "200\t(4552000,)\t758.6666666666666\tC4\t\n",
      "1\t(22760,)\t758.6666666666666\tC4 Impedance\t\n",
      "200\t(4552000,)\t758.6666666666666\tC4-M1\t\n",
      "1\t(22760,)\t758.6666666666666\tC4-M1 (Imp)\t\n",
      "25\t(569000,)\t758.6666666666666\tcRIP Flow\t\n",
      "25\t(569000,)\t758.6666666666666\tcRIP Sum\t\n",
      "200\t(4552000,)\t758.6666666666666\tE1\t\n",
      "1\t(22760,)\t758.6666666666666\tE1 Impedance\t\n",
      "200\t(4552000,)\t758.6666666666666\tE1-M2\t\n",
      "1\t(22760,)\t758.6666666666666\tE1-M2 (Imp)\t\n",
      "200\t(4552000,)\t758.6666666666666\tE2\t\n",
      "1\t(22760,)\t758.6666666666666\tE2 Impedance\t\n",
      "200\t(4552000,)\t758.6666666666666\tE2-M1\t\n",
      "1\t(22760,)\t758.6666666666666\tE2-M1 (Imp)\t\n",
      "200\t(4552000,)\t758.6666666666666\tEKG\t\n",
      "1\t(22760,)\t758.6666666666666\tEKG Impedance\t\n",
      "20\t(455200,)\t758.6666666666666\tElevation\t\n",
      "200\t(4552000,)\t758.6666666666666\tF\t\n",
      "1\t(22760,)\t758.6666666666666\tF Impedance\t\n",
      "200\t(4552000,)\t758.6666666666666\tF3\t\n",
      "1\t(22760,)\t758.6666666666666\tF3 Impedance\t\n",
      "200\t(4552000,)\t758.6666666666666\tF3-M2\t\n",
      "1\t(22760,)\t758.6666666666666\tF3-M2 (Imp)\t\n",
      "200\t(4552000,)\t758.6666666666666\tF4\t\n",
      "1\t(22760,)\t758.6666666666666\tF4 Impedance\t\n",
      "200\t(4552000,)\t758.6666666666666\tF4-M1\t\n",
      "1\t(22760,)\t758.6666666666666\tF4-M1 (Imp)\t\n",
      "200\t(4552000,)\t758.6666666666666\tFlow\t\n",
      "5\t(113800,)\t758.6666666666666\tFlow Limitation\t\n",
      "3\t(68280,)\t758.6666666666666\tHeart Rate\t\n",
      "3\t(68280,)\t758.6666666666666\tHeart Rate\t\n",
      "25\t(569000,)\t758.6666666666666\tInductance Abdom\t\n",
      "25\t(569000,)\t758.6666666666666\tInductance Thora\t\n",
      "25\t(569000,)\t758.6666666666666\tK\t\n",
      "200\t(4552000,)\t758.6666666666666\tLeft Leg\t\n",
      "1\t(22760,)\t758.6666666666666\tLeft Leg Impedan\t\n",
      "200\t(4552000,)\t758.6666666666666\tM1\t\n",
      "1\t(22760,)\t758.6666666666666\tM1 Impedance\t\n",
      "200\t(4552000,)\t758.6666666666666\tM1M2\t\n",
      "200\t(4552000,)\t758.6666666666666\tM2\t\n",
      "1\t(22760,)\t758.6666666666666\tM2 Impedance\t\n",
      "200\t(4552000,)\t758.6666666666666\tMask Pressure\t\n",
      "200\t(4552000,)\t758.6666666666666\tNasal Pressure\t\n",
      "200\t(4552000,)\t758.6666666666666\tO1\t\n",
      "1\t(22760,)\t758.6666666666666\tO1 Impedance\t\n",
      "200\t(4552000,)\t758.6666666666666\tO1-M2\t\n",
      "1\t(22760,)\t758.6666666666666\tO1-M2 (Imp)\t\n",
      "200\t(4552000,)\t758.6666666666666\tO2\t\n",
      "1\t(22760,)\t758.6666666666666\tO2 Impedance\t\n",
      "200\t(4552000,)\t758.6666666666666\tO2-M1\t\n",
      "1\t(22760,)\t758.6666666666666\tO2-M1 (Imp)\t\n",
      "75\t(1704724,)\t757.6551111111111\tPulse Waveform\t\n",
      "20\t(455200,)\t758.6666666666666\tPosAngle\t\n",
      "75\t(1704724,)\t757.6551111111111\tPTT\t\n",
      "3\t(66004,)\t733.3777777777777\tPulse\t\n",
      "75\t(1704724,)\t757.6551111111111\tPWA\t\n",
      "25\t(569000,)\t758.6666666666666\tResp Rate\t\n",
      "200\t(4552000,)\t758.6666666666666\tRight Leg\t\n",
      "1\t(22760,)\t758.6666666666666\tRight Leg Impeda\t\n",
      "25\t(569000,)\t758.6666666666666\tRIP Flow\t\n",
      "1\t(22760,)\t758.6666666666666\tRIP Phase\t\n",
      "25\t(569000,)\t758.6666666666666\tRIP Sum\t\n",
      "1\t(22760,)\t758.6666666666666\tMaskPressure\t\n",
      "200\t(4552000,)\t758.6666666666666\tSnore\t\n",
      "3\t(66004,)\t733.3777777777777\tSaturation\t\n",
      "3\t(66004,)\t733.3777777777777\tSpO2 B-B\t\n",
      "25\t(569000,)\t758.6666666666666\tChest\t\n",
      "100\t(2273724,)\t757.908\tVoltage (battery\t\n",
      "100\t(2273724,)\t757.908\tVoltage (bluetoo\t\n",
      "100\t(2273724,)\t757.908\tVoltage (core)\t\n",
      "20\t(455200,)\t758.6666666666666\tX Axis\t\n",
      "20\t(455200,)\t758.6666666666666\tY Axis\t\n",
      "20\t(455200,)\t758.6666666666666\tZ Axis\t\n"
     ]
    },
    {
     "name": "stderr",
     "output_type": "stream",
     "text": [
      "\n"
     ]
    }
   ],
   "source": [
    "signals = os.listdir(\"/data/ssd1/spindle_dataset/original_signals/only_200Hz/\")\n",
    "signals.sort()\n",
    "for signal in signals:\n",
    "    signals_pyedf, signals_info_pyedf, info = highlevel.read_edf(\"/data/ssd1/spindle_dataset/original_signals/only_200Hz/\"+signal)\n",
    "    print(info['startdate'])\n",
    "    for idx,i in enumerate(signals_info_pyedf):\n",
    "        #if i['label'] not in [\"C3-M2\", \"C4-M1\", \"F3-M2\", \"F4-M1\", \"O1-M2\", \"O2-M1\", \"E1-M2\", \"E2-M1\", \"1-2\", \"EKG\",'Chest','Abdomen','Flow','Saturation']:\n",
    "        #    continue\n",
    "        print(i['sample_rate'], end='\\t')\n",
    "        print(signals_pyedf[idx].shape, end='\\t')\n",
    "        print(signals_pyedf[idx].shape[0]/i['sample_rate']/30, end='\\t')\n",
    "        print(i['label'], end='\\t')\n",
    "        print()"
   ]
  },
  {
   "cell_type": "code",
   "execution_count": 58,
   "id": "integrated-engineering",
   "metadata": {},
   "outputs": [
    {
     "data": {
      "text/plain": [
       "{'technician': '',\n",
       " 'recording_additional': '',\n",
       " 'patientname': '',\n",
       " 'patient_additional': '',\n",
       " 'patientcode': '',\n",
       " 'equipment': '',\n",
       " 'admincode': '',\n",
       " 'gender': '',\n",
       " 'startdate': datetime.datetime(2021, 9, 15, 22, 5, 8),\n",
       " 'birthdate': '',\n",
       " 'annotations': []}"
      ]
     },
     "execution_count": 58,
     "metadata": {},
     "output_type": "execute_result"
    }
   ],
   "source": [
    "info"
   ]
  },
  {
   "cell_type": "code",
   "execution_count": 56,
   "id": "known-identification",
   "metadata": {},
   "outputs": [
    {
     "data": {
      "text/plain": [
       "array([95.95146489, 95.95146489, 95.95146489, 95.95146489, 96.95148015,\n",
       "       96.95148015, 96.95148015, 96.95148015, 96.95148015, 96.95148015,\n",
       "       96.95148015, 96.95148015, 97.95149541])"
      ]
     },
     "execution_count": 56,
     "metadata": {},
     "output_type": "execute_result"
    }
   ],
   "source": [
    "signals_pyedf[0][953:966]"
   ]
  },
  {
   "cell_type": "code",
   "execution_count": 81,
   "id": "invisible-recycling",
   "metadata": {},
   "outputs": [
    {
     "name": "stdout",
     "output_type": "stream",
     "text": [
      "200\t(4552420,)\t758.7366666666666\t1-2\t\n",
      "25\t(567800,)\t757.0666666666667\tAbdomen\t\n",
      "200\t(4552420,)\t758.7366666666666\tC3-M2\t\n",
      "200\t(4552420,)\t758.7366666666666\tC4-M1\t\n",
      "200\t(4552420,)\t758.7366666666666\tE1-M2\t\n",
      "200\t(4552420,)\t758.7366666666666\tE2-M1\t\n",
      "200\t(4552420,)\t758.7366666666666\tEKG\t\n",
      "200\t(4552420,)\t758.7366666666666\tF3-M2\t\n",
      "200\t(4552420,)\t758.7366666666666\tF4-M1\t\n",
      "200\t(4552420,)\t758.7366666666666\tFlow\t\n",
      "200\t(4552420,)\t758.7366666666666\tO1-M2\t\n",
      "200\t(4552420,)\t758.7366666666666\tO2-M1\t\n",
      "3\t(66800,)\t742.2222222222223\tSaturation\t\n",
      "25\t(567800,)\t757.0666666666667\tChest\t\n"
     ]
    }
   ],
   "source": []
  },
  {
   "cell_type": "code",
   "execution_count": 50,
   "id": "classical-simulation",
   "metadata": {},
   "outputs": [
    {
     "name": "stdout",
     "output_type": "stream",
     "text": [
      "3\t(92160,)\t1024.0\tSaturation\t\n"
     ]
    }
   ],
   "source": [
    "for idx,i in enumerate(signals_info_pyedf):\n",
    "    if i['label'] not in [\"C3-M2\", \"C4-M1\", \"F3-M2\", \"F4-M1\", \"O1-M2\", \"O2-M1\", \"E1-M2\", \"E2-M1\", \"1-2\", \"EKG\",'Chest','Abdomen','RIP Flow','Saturation']:\n",
    "        continue\n",
    "    print(i['sample_rate'], end='\\t')\n",
    "    print(signals_pyedf[idx].shape, end='\\t')\n",
    "    print(signals_pyedf[idx].shape[0]/i['sample_rate']/30, end='\\t')\n",
    "    print(i['label'], end='\\t')\n",
    "    print()"
   ]
  },
  {
   "cell_type": "code",
   "execution_count": 70,
   "id": "governing-round",
   "metadata": {},
   "outputs": [
    {
     "name": "stdout",
     "output_type": "stream",
     "text": [
      "25\t(551376,)\t735.168\tAbdomen\t\n",
      "25\t(551376,)\t735.168\tRIP Flow\t\n",
      "3\t(66136,)\t734.8444444444444\tSaturation\t\n",
      "25\t(551376,)\t735.168\tChest\t\n"
     ]
    }
   ],
   "source": [
    "for idx,i in enumerate(signals_info_pyedf):\n",
    "    if i['label'] not in [\"C3-M2\", \"C4-M1\", \"F3-M2\", \"F4-M1\", \"O1-M2\", \"O2-M1\", \"E1-M2\", \"E2-M1\", \"1-2\", \"EKG\",'Chest','Abdomen','RIP Flow','Saturation']:\n",
    "        continue\n",
    "    print(i['sample_rate'], end='\\t')\n",
    "    print(signals_pyedf[idx].shape, end='\\t')\n",
    "    print(signals_pyedf[idx].shape[0]/i['sample_rate']/30, end='\\t')\n",
    "    print(i['label'], end='\\t')\n",
    "    print()"
   ]
  },
  {
   "cell_type": "code",
   "execution_count": 8,
   "id": "affecting-radical",
   "metadata": {},
   "outputs": [
    {
     "name": "stderr",
     "output_type": "stream",
     "text": [
      "Reading Channels: 100%|██████████| 14/14 [00:01<00:00,  8.76it/s]\n",
      "Reading Channels:   3%|▎         | 1/32 [00:00<00:04,  7.34it/s]"
     ]
    },
    {
     "name": "stdout",
     "output_type": "stream",
     "text": [
      "(4552420,)\t"
     ]
    },
    {
     "name": "stderr",
     "output_type": "stream",
     "text": [
      "Reading Channels: 100%|██████████| 32/32 [00:02<00:00, 13.47it/s]"
     ]
    },
    {
     "name": "stdout",
     "output_type": "stream",
     "text": [
      "(4552000,)\t"
     ]
    },
    {
     "name": "stderr",
     "output_type": "stream",
     "text": [
      "\n"
     ]
    }
   ],
   "source": [
    "test1 = None\n",
    "test2 = None\n",
    "\n",
    "signals_pyedf, signals_info_pyedf, info = highlevel.read_edf(\"/data/ssd1/spindle_dataset/original_signals/14Channel/002.edf\")\n",
    "for idx,i in enumerate(signals_info_pyedf):\n",
    "    if i['label'] not in [\"C3-M2\"]:\n",
    "        continue\n",
    "    print(signals_pyedf[idx].shape, end='\\t')\n",
    "\n",
    "    test1 = signals_pyedf[idx]\n",
    "    \n",
    "signals_pyedf, signals_info_pyedf, info = highlevel.read_edf(\"/data/ssd1/spindle_dataset/original_signals/200Hz/002.edf\")\n",
    "for idx,i in enumerate(signals_info_pyedf):\n",
    "    if i['label'] not in [\"C3-M2\"]:\n",
    "        continue\n",
    "    print(signals_pyedf[idx].shape, end='\\t')\n",
    "\n",
    "    test2 = signals_pyedf[idx]"
   ]
  },
  {
   "cell_type": "code",
   "execution_count": 9,
   "id": "celtic-brain",
   "metadata": {},
   "outputs": [
    {
     "name": "stdout",
     "output_type": "stream",
     "text": [
      "20284\n"
     ]
    }
   ],
   "source": [
    "a = test1[20000:20200]\n",
    "b = [0,1,2,3,4]\n",
    "\n",
    "for idx_,test2_ in enumerate(test2):\n",
    "    flag = 0\n",
    "    for idx2_ in range(0,200):\n",
    "        if not a[idx2_] == test2[idx_+idx2_]:\n",
    "            flag = 1\n",
    "            break\n",
    "        \n",
    "    if flag == 0:\n",
    "        print(idx_)"
   ]
  },
  {
   "cell_type": "code",
   "execution_count": 26,
   "id": "specified-literature",
   "metadata": {},
   "outputs": [
    {
     "name": "stderr",
     "output_type": "stream",
     "text": [
      "Reading Channels: 100%|██████████| 31/31 [00:03<00:00,  9.28it/s]\n"
     ]
    }
   ],
   "source": [
    "signals_pyedf, signals_info_pyedf, info = highlevel.read_edf(\"/data/ssd1/original_dataset/seoul_nx_edf/First/2019/A2019-NX-01-0291/1. EDF/A2019-NX-01-0291_edf.edf\")"
   ]
  },
  {
   "cell_type": "code",
   "execution_count": 27,
   "id": "forbidden-nature",
   "metadata": {},
   "outputs": [
    {
     "data": {
      "text/plain": [
       "[{'label': '1-2',\n",
       "  'dimension': 'V',\n",
       "  'sample_rate': 200,\n",
       "  'physical_max': 0.003276,\n",
       "  'physical_min': -0.00327,\n",
       "  'digital_max': 32767,\n",
       "  'digital_min': -32767,\n",
       "  'prefilter': '',\n",
       "  'transducer': ''},\n",
       " {'label': '1-2 (Imp)',\n",
       "  'dimension': 'Ohm',\n",
       "  'sample_rate': 1,\n",
       "  'physical_max': 327680.0,\n",
       "  'physical_min': -327690.0,\n",
       "  'digital_max': 32767,\n",
       "  'digital_min': -32767,\n",
       "  'prefilter': '',\n",
       "  'transducer': ''},\n",
       " {'label': 'Abdomen',\n",
       "  'dimension': 'V',\n",
       "  'sample_rate': 25,\n",
       "  'physical_max': 0.0005,\n",
       "  'physical_min': -0.0005,\n",
       "  'digital_max': 32767,\n",
       "  'digital_min': -32767,\n",
       "  'prefilter': '',\n",
       "  'transducer': ''},\n",
       " {'label': 'Activity',\n",
       "  'dimension': 'g/s',\n",
       "  'sample_rate': 20,\n",
       "  'physical_max': 10.0,\n",
       "  'physical_min': -10.0003,\n",
       "  'digital_max': 32767,\n",
       "  'digital_min': -32767,\n",
       "  'prefilter': '',\n",
       "  'transducer': ''},\n",
       " {'label': 'Audio Volume dB',\n",
       "  'dimension': 'dB',\n",
       "  'sample_rate': 100,\n",
       "  'physical_max': 1000.0,\n",
       "  'physical_min': -1000.03,\n",
       "  'digital_max': 32767,\n",
       "  'digital_min': -32767,\n",
       "  'prefilter': '',\n",
       "  'transducer': ''},\n",
       " {'label': 'C3-M2',\n",
       "  'dimension': 'V',\n",
       "  'sample_rate': 200,\n",
       "  'physical_max': 0.003276,\n",
       "  'physical_min': -0.00327,\n",
       "  'digital_max': 32767,\n",
       "  'digital_min': -32767,\n",
       "  'prefilter': '',\n",
       "  'transducer': ''},\n",
       " {'label': 'C3-M2 (Imp)',\n",
       "  'dimension': 'Ohm',\n",
       "  'sample_rate': 1,\n",
       "  'physical_max': 327680.0,\n",
       "  'physical_min': -327690.0,\n",
       "  'digital_max': 32767,\n",
       "  'digital_min': -32767,\n",
       "  'prefilter': '',\n",
       "  'transducer': ''},\n",
       " {'label': 'C4-M1',\n",
       "  'dimension': 'V',\n",
       "  'sample_rate': 200,\n",
       "  'physical_max': 0.003276,\n",
       "  'physical_min': -0.00327,\n",
       "  'digital_max': 32767,\n",
       "  'digital_min': -32767,\n",
       "  'prefilter': '',\n",
       "  'transducer': ''},\n",
       " {'label': 'C4-M1 (Imp)',\n",
       "  'dimension': 'Ohm',\n",
       "  'sample_rate': 1,\n",
       "  'physical_max': 327680.0,\n",
       "  'physical_min': -327690.0,\n",
       "  'digital_max': 32767,\n",
       "  'digital_min': -32767,\n",
       "  'prefilter': '',\n",
       "  'transducer': ''},\n",
       " {'label': 'E1-M2',\n",
       "  'dimension': 'V',\n",
       "  'sample_rate': 200,\n",
       "  'physical_max': 0.003276,\n",
       "  'physical_min': -0.00327,\n",
       "  'digital_max': 32767,\n",
       "  'digital_min': -32767,\n",
       "  'prefilter': '',\n",
       "  'transducer': ''},\n",
       " {'label': 'E1-M2 (Imp)',\n",
       "  'dimension': 'Ohm',\n",
       "  'sample_rate': 1,\n",
       "  'physical_max': 327680.0,\n",
       "  'physical_min': -327690.0,\n",
       "  'digital_max': 32767,\n",
       "  'digital_min': -32767,\n",
       "  'prefilter': '',\n",
       "  'transducer': ''},\n",
       " {'label': 'E2-M1',\n",
       "  'dimension': 'V',\n",
       "  'sample_rate': 200,\n",
       "  'physical_max': 0.003276,\n",
       "  'physical_min': -0.00327,\n",
       "  'digital_max': 32767,\n",
       "  'digital_min': -32767,\n",
       "  'prefilter': '',\n",
       "  'transducer': ''},\n",
       " {'label': 'E2-M1 (Imp)',\n",
       "  'dimension': 'Ohm',\n",
       "  'sample_rate': 1,\n",
       "  'physical_max': 327680.0,\n",
       "  'physical_min': -327690.0,\n",
       "  'digital_max': 32767,\n",
       "  'digital_min': -32767,\n",
       "  'prefilter': '',\n",
       "  'transducer': ''},\n",
       " {'label': 'ECG',\n",
       "  'dimension': 'V',\n",
       "  'sample_rate': 200,\n",
       "  'physical_max': 1.023999,\n",
       "  'physical_min': -1.024,\n",
       "  'digital_max': 32767,\n",
       "  'digital_min': -32767,\n",
       "  'prefilter': '',\n",
       "  'transducer': ''},\n",
       " {'label': 'F3-M2',\n",
       "  'dimension': 'V',\n",
       "  'sample_rate': 200,\n",
       "  'physical_max': 0.003276,\n",
       "  'physical_min': -0.00327,\n",
       "  'digital_max': 32767,\n",
       "  'digital_min': -32767,\n",
       "  'prefilter': '',\n",
       "  'transducer': ''},\n",
       " {'label': 'F4-M1',\n",
       "  'dimension': 'V',\n",
       "  'sample_rate': 200,\n",
       "  'physical_max': 0.003276,\n",
       "  'physical_min': -0.00327,\n",
       "  'digital_max': 32767,\n",
       "  'digital_min': -32767,\n",
       "  'prefilter': '',\n",
       "  'transducer': ''},\n",
       " {'label': 'Flow',\n",
       "  'dimension': 'cmH2O',\n",
       "  'sample_rate': 200,\n",
       "  'physical_max': 10.0,\n",
       "  'physical_min': -10.0003,\n",
       "  'digital_max': 32767,\n",
       "  'digital_min': -32767,\n",
       "  'prefilter': '',\n",
       "  'transducer': ''},\n",
       " {'label': 'Left Leg',\n",
       "  'dimension': 'V',\n",
       "  'sample_rate': 200,\n",
       "  'physical_max': 1.023999,\n",
       "  'physical_min': -1.024,\n",
       "  'digital_max': 32767,\n",
       "  'digital_min': -32767,\n",
       "  'prefilter': '',\n",
       "  'transducer': ''},\n",
       " {'label': 'O1-M2',\n",
       "  'dimension': 'V',\n",
       "  'sample_rate': 200,\n",
       "  'physical_max': 0.003276,\n",
       "  'physical_min': -0.00327,\n",
       "  'digital_max': 32767,\n",
       "  'digital_min': -32767,\n",
       "  'prefilter': '',\n",
       "  'transducer': ''},\n",
       " {'label': 'O1-M2 (Imp)',\n",
       "  'dimension': 'Ohm',\n",
       "  'sample_rate': 1,\n",
       "  'physical_max': 327680.0,\n",
       "  'physical_min': -327690.0,\n",
       "  'digital_max': 32767,\n",
       "  'digital_min': -32767,\n",
       "  'prefilter': '',\n",
       "  'transducer': ''},\n",
       " {'label': 'O2-M1',\n",
       "  'dimension': 'V',\n",
       "  'sample_rate': 200,\n",
       "  'physical_max': 0.003276,\n",
       "  'physical_min': -0.00327,\n",
       "  'digital_max': 32767,\n",
       "  'digital_min': -32767,\n",
       "  'prefilter': '',\n",
       "  'transducer': ''},\n",
       " {'label': 'O2-M1 (Imp)',\n",
       "  'dimension': 'Ohm',\n",
       "  'sample_rate': 1,\n",
       "  'physical_max': 327680.0,\n",
       "  'physical_min': -327690.0,\n",
       "  'digital_max': 32767,\n",
       "  'digital_min': -32767,\n",
       "  'prefilter': '',\n",
       "  'transducer': ''},\n",
       " {'label': 'PosAngle',\n",
       "  'dimension': 'deg',\n",
       "  'sample_rate': 20,\n",
       "  'physical_max': 1000.0,\n",
       "  'physical_min': -1000.03,\n",
       "  'digital_max': 32767,\n",
       "  'digital_min': -32767,\n",
       "  'prefilter': '',\n",
       "  'transducer': ''},\n",
       " {'label': 'Right Leg',\n",
       "  'dimension': 'V',\n",
       "  'sample_rate': 200,\n",
       "  'physical_max': 1.023999,\n",
       "  'physical_min': -1.024,\n",
       "  'digital_max': 32767,\n",
       "  'digital_min': -32767,\n",
       "  'prefilter': '',\n",
       "  'transducer': ''},\n",
       " {'label': 'Snore',\n",
       "  'dimension': 'cmH2O',\n",
       "  'sample_rate': 200,\n",
       "  'physical_max': 10.0,\n",
       "  'physical_min': -10.0003,\n",
       "  'digital_max': 32767,\n",
       "  'digital_min': -32767,\n",
       "  'prefilter': '',\n",
       "  'transducer': ''},\n",
       " {'label': 'Saturation',\n",
       "  'dimension': '%',\n",
       "  'sample_rate': 3,\n",
       "  'physical_max': 3276.7,\n",
       "  'physical_min': -3276.8,\n",
       "  'digital_max': 32767,\n",
       "  'digital_min': -32767,\n",
       "  'prefilter': '',\n",
       "  'transducer': ''},\n",
       " {'label': 'Thermistor',\n",
       "  'dimension': 'V',\n",
       "  'sample_rate': 200,\n",
       "  'physical_max': 1.023999,\n",
       "  'physical_min': -1.024,\n",
       "  'digital_max': 32767,\n",
       "  'digital_min': -32767,\n",
       "  'prefilter': '',\n",
       "  'transducer': ''},\n",
       " {'label': 'Chest',\n",
       "  'dimension': 'V',\n",
       "  'sample_rate': 25,\n",
       "  'physical_max': 0.0005,\n",
       "  'physical_min': -0.0005,\n",
       "  'digital_max': 32767,\n",
       "  'digital_min': -32767,\n",
       "  'prefilter': '',\n",
       "  'transducer': ''},\n",
       " {'label': 'X Axis',\n",
       "  'dimension': 'g',\n",
       "  'sample_rate': 20,\n",
       "  'physical_max': 2.0,\n",
       "  'physical_min': -2.00006,\n",
       "  'digital_max': 32767,\n",
       "  'digital_min': -32767,\n",
       "  'prefilter': '',\n",
       "  'transducer': ''},\n",
       " {'label': 'Y Axis',\n",
       "  'dimension': 'g',\n",
       "  'sample_rate': 20,\n",
       "  'physical_max': 2.0,\n",
       "  'physical_min': -2.00006,\n",
       "  'digital_max': 32767,\n",
       "  'digital_min': -32767,\n",
       "  'prefilter': '',\n",
       "  'transducer': ''},\n",
       " {'label': 'Z Axis',\n",
       "  'dimension': 'g',\n",
       "  'sample_rate': 20,\n",
       "  'physical_max': 2.0,\n",
       "  'physical_min': -2.00006,\n",
       "  'digital_max': 32767,\n",
       "  'digital_min': -32767,\n",
       "  'prefilter': '',\n",
       "  'transducer': ''}]"
      ]
     },
     "execution_count": 27,
     "metadata": {},
     "output_type": "execute_result"
    }
   ],
   "source": [
    "signals_info_pyedf"
   ]
  },
  {
   "cell_type": "code",
   "execution_count": 22,
   "id": "vanilla-attribute",
   "metadata": {},
   "outputs": [
    {
     "name": "stdout",
     "output_type": "stream",
     "text": [
      "732\n",
      "751\n",
      "725\n",
      "772\n",
      "732\n",
      "722\n",
      "732\n"
     ]
    }
   ],
   "source": [
    "anns = os.listdir(\"/data/ssd1/spindle_dataset/preprocessing_data/annotations/events/\")\n",
    "\n",
    "anns.sort()\n",
    "\n",
    "for ann in anns:\n",
    "    print(len(np.load(\"/data/ssd1/spindle_dataset/preprocessing_data/annotations/events/\"+ann)))\n"
   ]
  },
  {
   "cell_type": "code",
   "execution_count": 23,
   "id": "passive-facial",
   "metadata": {},
   "outputs": [
    {
     "name": "stdout",
     "output_type": "stream",
     "text": [
      "732\n",
      "751\n",
      "725\n",
      "772\n",
      "732\n",
      "722\n",
      "732\n"
     ]
    }
   ],
   "source": [
    "anns = os.listdir(\"/data/ssd1/spindle_dataset/preprocessing_data/annotations/sleep_stage/\")\n",
    "\n",
    "anns.sort()\n",
    "\n",
    "for ann in anns:\n",
    "    print(len(np.load(\"/data/ssd1/spindle_dataset/preprocessing_data/annotations/sleep_stage/\"+ann)))\n"
   ]
  },
  {
   "cell_type": "code",
   "execution_count": null,
   "id": "planned-bicycle",
   "metadata": {},
   "outputs": [],
   "source": []
  }
 ],
 "metadata": {
  "kernelspec": {
   "display_name": "pytorch_medical",
   "language": "python",
   "name": "pytorch_medical"
  },
  "language_info": {
   "codemirror_mode": {
    "name": "ipython",
    "version": 3
   },
   "file_extension": ".py",
   "mimetype": "text/x-python",
   "name": "python",
   "nbconvert_exporter": "python",
   "pygments_lexer": "ipython3",
   "version": "3.7.9"
  }
 },
 "nbformat": 4,
 "nbformat_minor": 5
}
